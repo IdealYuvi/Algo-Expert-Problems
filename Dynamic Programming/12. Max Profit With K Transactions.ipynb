{
 "cells": [
  {
   "cell_type": "markdown",
   "metadata": {},
   "source": [
    "# You are given an integer array prices where prices[i] is the price of a given stock on the ith day.\n",
    "\n",
    "# Design an algorithm to find the maximum profit. You may complete at most k transactions.\n",
    "\n",
    "# Notice that you may not engage in multiple transactions simultaneously (i.e., you must sell the stock before you buy again)."
   ]
  },
  {
   "cell_type": "code",
   "execution_count": null,
   "metadata": {},
   "outputs": [],
   "source": [
    "\"\"\"\n",
    "Example 1:\n",
    "Input: k = 2, prices = [2,4,1]\n",
    "Output: 2\n",
    "Explanation: Buy on day 1 (price = 2) and sell on day 2 (price = 4), profit = 4-2 = 2.\n",
    "_______________________________________________________________________________________________________\n",
    "Example 2:\n",
    "Input: k = 2, prices = [3,2,6,5,0,3]\n",
    "Output: 7\n",
    "Explanation: Buy on day 2 (price = 2) and sell on day 3 (price = 6), profit = 6-2 = 4. \n",
    "             Then buy on day 5 (price = 0) and sell on day 6 (price = 3), profit = 3-0 = 3.\n",
    "_______________________________________________________________________________________________________\n",
    "\n",
    "Example 3:\n",
    "Input: k = 2, prices = [5,11,3,50,60,90]\n",
    "Output: 93\n",
    "\n",
    "\"\"\""
   ]
  },
  {
   "cell_type": "code",
   "execution_count": 1,
   "metadata": {},
   "outputs": [],
   "source": [
    "# O(nk)T / O(nk)S - n is length of prices and k is given\n",
    "\n",
    "def maxProfitWithKTransactions_1(prices, k):\n",
    "    if not len(prices):\n",
    "        return 0\n",
    "    \n",
    "    profits = [[0 for d in prices] for t in range(k + 1)]\n",
    "    \n",
    "    for t in range(1, k + 1):\n",
    "        maxThusFar = float('-inf')\n",
    "        \n",
    "        for d in range(1, len(prices)):\n",
    "            maxThusFar = max(maxThusFar, profits[t - 1][d - 1] - prices[d - 1])\n",
    "            profits[t][d] = max(profits[t][d - 1], maxThusFar + prices[d])\n",
    "            \n",
    "    return profits[-1][-1]"
   ]
  },
  {
   "cell_type": "code",
   "execution_count": 2,
   "metadata": {},
   "outputs": [
    {
     "data": {
      "text/plain": [
       "2"
      ]
     },
     "execution_count": 2,
     "metadata": {},
     "output_type": "execute_result"
    }
   ],
   "source": [
    "k = 2\n",
    "prices = [2,4,1]\n",
    "\n",
    "maxProfitWithKTransactions_1(prices, k)"
   ]
  },
  {
   "cell_type": "code",
   "execution_count": 3,
   "metadata": {},
   "outputs": [
    {
     "data": {
      "text/plain": [
       "7"
      ]
     },
     "execution_count": 3,
     "metadata": {},
     "output_type": "execute_result"
    }
   ],
   "source": [
    "k = 2\n",
    "prices = [3,2,6,5,0,3]\n",
    "\n",
    "maxProfitWithKTransactions_1(prices, k)"
   ]
  },
  {
   "cell_type": "code",
   "execution_count": 4,
   "metadata": {},
   "outputs": [
    {
     "data": {
      "text/plain": [
       "93"
      ]
     },
     "execution_count": 4,
     "metadata": {},
     "output_type": "execute_result"
    }
   ],
   "source": [
    "k = 2\n",
    "prices = [5,11,3,50,60,90]\n",
    "\n",
    "maxProfitWithKTransactions_1(prices, k)"
   ]
  },
  {
   "cell_type": "code",
   "execution_count": 5,
   "metadata": {},
   "outputs": [],
   "source": [
    "# O(nk)T / O(n)S -> Improved space complexity from the above code\n",
    "\n",
    "def maxProfitWithKTransactions_2(prices, k):\n",
    "    if not len(prices):\n",
    "        return 0\n",
    "    \n",
    "    evenProfits = [0 for d in prices]\n",
    "    oddProfits = [0 for d in prices]\n",
    "    \n",
    "    for t in range(1, k + 1):\n",
    "        maxThusFar = float('-inf')\n",
    "        \n",
    "        if t % 2 == 1:\n",
    "            curProfits = oddProfits\n",
    "            prevProfits = evenProfits\n",
    "        else:\n",
    "            curProfits = evenProfits\n",
    "            prevProfits = oddProfits\n",
    "            \n",
    "        for d in range(1, len(prices)):\n",
    "            maxThusFar = max(maxThusFar, prevProfits[d - 1] - prices[d - 1])\n",
    "            curProfits[d] = max(curProfits[d - 1], maxThusFar + prices[d])\n",
    "            \n",
    "    return evenProfits[-1] if k % 2 == 0 else oddProfits[-1]"
   ]
  },
  {
   "cell_type": "code",
   "execution_count": 6,
   "metadata": {},
   "outputs": [
    {
     "data": {
      "text/plain": [
       "2"
      ]
     },
     "execution_count": 6,
     "metadata": {},
     "output_type": "execute_result"
    }
   ],
   "source": [
    "k = 2\n",
    "prices = [2,4,1]\n",
    "\n",
    "maxProfitWithKTransactions_2(prices, k)"
   ]
  },
  {
   "cell_type": "code",
   "execution_count": 7,
   "metadata": {},
   "outputs": [
    {
     "data": {
      "text/plain": [
       "7"
      ]
     },
     "execution_count": 7,
     "metadata": {},
     "output_type": "execute_result"
    }
   ],
   "source": [
    "k = 2\n",
    "prices = [3,2,6,5,0,3]\n",
    "\n",
    "maxProfitWithKTransactions_2(prices, k)"
   ]
  },
  {
   "cell_type": "code",
   "execution_count": 8,
   "metadata": {},
   "outputs": [
    {
     "data": {
      "text/plain": [
       "93"
      ]
     },
     "execution_count": 8,
     "metadata": {},
     "output_type": "execute_result"
    }
   ],
   "source": [
    "k = 2\n",
    "prices = [5,11,3,50,60,90]\n",
    "\n",
    "maxProfitWithKTransactions_2(prices, k)"
   ]
  },
  {
   "cell_type": "code",
   "execution_count": null,
   "metadata": {},
   "outputs": [],
   "source": []
  }
 ],
 "metadata": {
  "kernelspec": {
   "display_name": "Python 3",
   "language": "python",
   "name": "python3"
  },
  "language_info": {
   "codemirror_mode": {
    "name": "ipython",
    "version": 3
   },
   "file_extension": ".py",
   "mimetype": "text/x-python",
   "name": "python",
   "nbconvert_exporter": "python",
   "pygments_lexer": "ipython3",
   "version": "3.8.3"
  }
 },
 "nbformat": 4,
 "nbformat_minor": 4
}
