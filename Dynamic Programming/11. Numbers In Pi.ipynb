{
 "cells": [
  {
   "cell_type": "markdown",
   "metadata": {},
   "source": [
    "# Given a string representation of the first n digits of Pi and a list of your favorite numbers (all positive integers in string format), write a function that returns the smallest number of spaces that need to be added to the n digits of Pi such that all resulting numbers are found in the list of favorite numbers."
   ]
  },
  {
   "cell_type": "code",
   "execution_count": null,
   "metadata": {},
   "outputs": [],
   "source": [
    "\"\"\"\n",
    "Sample Input: pi = '3141592', \n",
    "              nums = ['3141','5','31','2','4159','9','42']\n",
    "Sample Output: 2 -> ('31 | 4159 | 2')\n",
    "_____________________________________________________________________________________________________________\n",
    "\n",
    "Sample Input: pi = '3141592653589793238462643383279', \n",
    "              nums = ['314159265358979323846','26433','8','3279','314159265','35897932384626433832','79']              \n",
    "Sample output: 2 -> ('314159265 | 35897932384626433832 | 79')\n",
    "\"\"\""
   ]
  },
  {
   "cell_type": "code",
   "execution_count": 1,
   "metadata": {},
   "outputs": [],
   "source": [
    "# O(n^3 + m)T / O(n + m)S - n is pi, m is nums\n",
    "\n",
    "def numbersInPi(pi, nums):\n",
    "    tab = set(nums)\n",
    "    minSpaces = getMinSpaces(pi, tab, {}, 0)\n",
    "    \n",
    "    return -1 if minSpaces == float('inf') else minSpaces\n",
    "\n",
    "def getMinSpaces(pi, tab, cache, idx):\n",
    "    if idx == len(pi):\n",
    "        return -1\n",
    "    \n",
    "    if idx in cache:\n",
    "        return cache[idx]\n",
    "    \n",
    "    minSpaces = float('inf')\n",
    "    \n",
    "    for i in range(idx, len(pi)):\n",
    "        prefix = pi[idx:i+1]\n",
    "        \n",
    "        if prefix in tab:\n",
    "            minSpacesInSuffix = getMinSpaces(pi, tab, cache, i + 1)\n",
    "            minSpaces = min(minSpaces, minSpacesInSuffix + 1)\n",
    "            \n",
    "    cache[idx] = minSpaces\n",
    "    \n",
    "    return cache[idx]"
   ]
  },
  {
   "cell_type": "code",
   "execution_count": 2,
   "metadata": {},
   "outputs": [
    {
     "data": {
      "text/plain": [
       "2"
      ]
     },
     "execution_count": 2,
     "metadata": {},
     "output_type": "execute_result"
    }
   ],
   "source": [
    "pi = '3141592'\n",
    "nums = ['3141','5','31','2','4159','9','42']\n",
    "\n",
    "numbersInPi(pi, nums)"
   ]
  },
  {
   "cell_type": "code",
   "execution_count": 3,
   "metadata": {},
   "outputs": [
    {
     "data": {
      "text/plain": [
       "2"
      ]
     },
     "execution_count": 3,
     "metadata": {},
     "output_type": "execute_result"
    }
   ],
   "source": [
    "pi = '3141592653589793238462643383279'\n",
    "nums = ['314159265358979323846','26433','8','3279','314159265','35897932384626433832','79']\n",
    "\n",
    "numbersInPi(pi, nums)"
   ]
  },
  {
   "cell_type": "code",
   "execution_count": null,
   "metadata": {},
   "outputs": [],
   "source": []
  }
 ],
 "metadata": {
  "kernelspec": {
   "display_name": "Python 3",
   "language": "python",
   "name": "python3"
  },
  "language_info": {
   "codemirror_mode": {
    "name": "ipython",
    "version": 3
   },
   "file_extension": ".py",
   "mimetype": "text/x-python",
   "name": "python",
   "nbconvert_exporter": "python",
   "pygments_lexer": "ipython3",
   "version": "3.8.3"
  }
 },
 "nbformat": 4,
 "nbformat_minor": 4
}
