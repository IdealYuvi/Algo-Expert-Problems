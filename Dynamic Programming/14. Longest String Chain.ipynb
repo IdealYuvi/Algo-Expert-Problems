{
 "cells": [
  {
   "cell_type": "markdown",
   "metadata": {},
   "source": [
    "# Given a list of words, each word consists of English lowercase letters.\n",
    "\n",
    "# Let's say word1 is a predecessor of word2 if and only if we can add exactly one letter anywhere in word1 to make it equal to word2.  For example, \"abc\" is a predecessor of \"abac\".\n",
    "\n",
    "# A word chain is a sequence of words [word_1, word_2, ..., word_k] with k >= 1, where word_1 is a predecessor of word_2, word_2 is a predecessor of word_3, and so on.\n",
    "\n",
    "# Return the longest possible word chain with words chosen from the given list of words."
   ]
  },
  {
   "cell_type": "code",
   "execution_count": null,
   "metadata": {},
   "outputs": [],
   "source": [
    "\"\"\"\n",
    "Example 1:\n",
    "Input: words = [\"ae\",\"abc\",\"abd\",\"ade\",\"abde\",\"abcde\",\"labde\",\"abcdef\"]\n",
    "Output: [\"abcdef\",\"abcde\",\"abde\",\"ade\",\"ae\"]\n",
    "\n",
    "Example 2:\n",
    "Input: words = [\"a\",\"b\",\"ba\",\"bca\",\"bda\",\"bdca\"]\n",
    "Output: [\"bdca\", \"bca\", \"ba\", \"a\"] or [\"bdca\", \"bda\", \"ba\", \"a\"]\n",
    "\n",
    "\"\"\""
   ]
  },
  {
   "cell_type": "code",
   "execution_count": 1,
   "metadata": {},
   "outputs": [],
   "source": [
    "# O((n * m^2) + nlog(n))T / O(nm)S\n",
    "\n",
    "def longestStringChain(strings):\n",
    "    tab = {}\n",
    "    \n",
    "    for s in strings:\n",
    "        tab[s] = {'nextString': '', 'maxChainLength': 1}\n",
    "        \n",
    "    sortedStrings = sorted(strings, key = len)\n",
    "    \n",
    "    for s in sortedStrings:\n",
    "        findLongestStringChain(s, tab)\n",
    "        \n",
    "    return buildLongestStringChain(strings, tab)\n",
    "        \n",
    "def findLongestStringChain(s, tab):\n",
    "    for i in range(len(s)):\n",
    "        smallerString = s[0: i] + s[i + 1:]\n",
    "        \n",
    "        if smallerString in tab:\n",
    "            updateNextString(s, smallerString, tab) \n",
    "        \n",
    "def updateNextString(curString, smallerString, tab):\n",
    "    smallerStringChainLength = tab[smallerString]['maxChainLength']\n",
    "    curStringChainLength = tab[curString]['maxChainLength']\n",
    "    \n",
    "    if smallerStringChainLength + 1 > curStringChainLength:\n",
    "        tab[curString]['nextString'] = smallerString\n",
    "        tab[curString]['maxChainLength'] = smallerStringChainLength + 1\n",
    "    \n",
    "def buildLongestStringChain(strings, tab):\n",
    "    maxChainLength = 0\n",
    "    chainStartingString = ''\n",
    "    \n",
    "    for s in strings:\n",
    "        if tab[s]['maxChainLength'] > maxChainLength:\n",
    "            maxChainLength = tab[s]['maxChainLength']\n",
    "            chainStartingString = s\n",
    "            \n",
    "    result = []\n",
    "    curString = chainStartingString\n",
    "    \n",
    "    while curString != '':\n",
    "        result.append(curString)\n",
    "        curString = tab[curString]['nextString']\n",
    "        \n",
    "    return [] if len(result) == 1 else result"
   ]
  },
  {
   "cell_type": "code",
   "execution_count": 2,
   "metadata": {},
   "outputs": [
    {
     "data": {
      "text/plain": [
       "['abcdef', 'abcde', 'abde', 'ade', 'ae']"
      ]
     },
     "execution_count": 2,
     "metadata": {},
     "output_type": "execute_result"
    }
   ],
   "source": [
    "words = [\"ae\",\"abc\",\"abd\",\"ade\",\"abde\",\"abcde\",\"labde\",\"abcdef\"]\n",
    "\n",
    "longestStringChain(words)"
   ]
  },
  {
   "cell_type": "code",
   "execution_count": 3,
   "metadata": {},
   "outputs": [
    {
     "data": {
      "text/plain": [
       "['bdca', 'bca', 'ba', 'a']"
      ]
     },
     "execution_count": 3,
     "metadata": {},
     "output_type": "execute_result"
    }
   ],
   "source": [
    "words = [\"a\",\"b\",\"ba\",\"bca\",\"bda\",\"bdca\"]\n",
    "\n",
    "longestStringChain(words)"
   ]
  },
  {
   "cell_type": "code",
   "execution_count": null,
   "metadata": {},
   "outputs": [],
   "source": []
  }
 ],
 "metadata": {
  "kernelspec": {
   "display_name": "Python 3",
   "language": "python",
   "name": "python3"
  },
  "language_info": {
   "codemirror_mode": {
    "name": "ipython",
    "version": 3
   },
   "file_extension": ".py",
   "mimetype": "text/x-python",
   "name": "python",
   "nbconvert_exporter": "python",
   "pygments_lexer": "ipython3",
   "version": "3.8.3"
  }
 },
 "nbformat": 4,
 "nbformat_minor": 4
}
