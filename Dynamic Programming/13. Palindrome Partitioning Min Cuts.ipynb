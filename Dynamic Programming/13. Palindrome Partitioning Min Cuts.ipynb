{
 "cells": [
  {
   "cell_type": "markdown",
   "metadata": {},
   "source": [
    "# Given a string, partition it such that every substring of the partition is a palindrome. Return the minimum cuts needed for a palindrome partitioning of the string."
   ]
  },
  {
   "cell_type": "code",
   "execution_count": null,
   "metadata": {},
   "outputs": [],
   "source": [
    "\"\"\"\n",
    "Example 1:\n",
    "Input: s = \"aab\"\n",
    "Output: 1\n",
    "Explanation: The palindrome partitioning [\"aa\",\"b\"] could be produced using 1 cut.\n",
    "\n",
    "Example 2:\n",
    "Input: s = \"noonabbad\"\n",
    "Output: 2\n",
    "Explanation: The palindrome partitioning [\"noon\",\"abba\",\"d\"] could be produced using 2 cut.\n",
    "\n",
    "Example 3:\n",
    "Input: s = \"a\"\n",
    "Output: 0\n",
    "\n",
    "\"\"\""
   ]
  },
  {
   "cell_type": "code",
   "execution_count": 1,
   "metadata": {},
   "outputs": [],
   "source": [
    "# O(n^3)T / O(n^2)S\n",
    "\n",
    "def palindromePartitioningMinCuts_1(s):\n",
    "    palindromes = [[False for i in s] for j in s]\n",
    "    \n",
    "    for i in range(len(s)):\n",
    "        for j in range(i, len(s)):\n",
    "            palindromes[i][j] = isPalindrome(s[i: j + 1])\n",
    "            \n",
    "    cuts = [float('inf') for i in s]\n",
    "    \n",
    "    for i in range(len(s)):\n",
    "        if palindromes[0][i]:\n",
    "            cuts[i] = 0\n",
    "        else:\n",
    "            cuts[i] = cuts[i - 1] + 1\n",
    "            \n",
    "            for j in range(1, i):\n",
    "                if palindromes[j][i] and cuts[j - 1] + 1 < cuts[i]:\n",
    "                    cuts[i] = cuts[j - 1] + 1\n",
    "                    \n",
    "    return cuts[-1]\n",
    "\n",
    "def isPalindrome(s):\n",
    "    left = 0\n",
    "    right = len(s) - 1\n",
    "    \n",
    "    while left < right:\n",
    "        if s[left] != s[right]:\n",
    "            return False\n",
    "        \n",
    "        left += 1\n",
    "        right -= 1\n",
    "        \n",
    "    return True"
   ]
  },
  {
   "cell_type": "code",
   "execution_count": 2,
   "metadata": {},
   "outputs": [
    {
     "data": {
      "text/plain": [
       "1"
      ]
     },
     "execution_count": 2,
     "metadata": {},
     "output_type": "execute_result"
    }
   ],
   "source": [
    "s = 'aab'\n",
    "\n",
    "palindromePartitioningMinCuts_1(s)"
   ]
  },
  {
   "cell_type": "code",
   "execution_count": 3,
   "metadata": {},
   "outputs": [
    {
     "data": {
      "text/plain": [
       "2"
      ]
     },
     "execution_count": 3,
     "metadata": {},
     "output_type": "execute_result"
    }
   ],
   "source": [
    "s = 'noonabbad'\n",
    "\n",
    "palindromePartitioningMinCuts_1(s)"
   ]
  },
  {
   "cell_type": "code",
   "execution_count": 4,
   "metadata": {},
   "outputs": [
    {
     "data": {
      "text/plain": [
       "0"
      ]
     },
     "execution_count": 4,
     "metadata": {},
     "output_type": "execute_result"
    }
   ],
   "source": [
    "s = 'a'\n",
    "\n",
    "palindromePartitioningMinCuts_1(s)"
   ]
  },
  {
   "cell_type": "code",
   "execution_count": 5,
   "metadata": {},
   "outputs": [],
   "source": [
    "# O(n^2)T / O(n^2)S\n",
    "\n",
    "def palindromePartitioningMinCuts_2(s):\n",
    "    palindromes = [[False for i in s] for j in s]\n",
    "    \n",
    "    for i in range(len(s)):\n",
    "        palindromes[i][i] = True\n",
    "        \n",
    "    for length in range(2, len(s) + 1):\n",
    "        for i in range(0, len(s) - length + 1):\n",
    "            j = i + length - 1\n",
    "            \n",
    "            if length == 2:\n",
    "                palindromes[i][j] = s[i] == s[j]\n",
    "            else:\n",
    "                palindromes[i][j] = s[i] == s[j] and palindromes[i + 1][j - 1]\n",
    "                \n",
    "    cuts = [float('inf') for i in s]\n",
    "    \n",
    "    for i in range(len(s)):\n",
    "        if palindromes[0][i]:\n",
    "            cuts[i] = 0\n",
    "        else:\n",
    "            cuts[i] = cuts[i - 1] + 1\n",
    "            \n",
    "            for j in range(1, i):\n",
    "                if palindromes[j][i] and cuts[j - 1] + 1 < cuts[i]:\n",
    "                    cuts[i] = cuts[j - 1] + 1\n",
    "                    \n",
    "    return cuts[-1]"
   ]
  },
  {
   "cell_type": "code",
   "execution_count": 6,
   "metadata": {},
   "outputs": [
    {
     "data": {
      "text/plain": [
       "1"
      ]
     },
     "execution_count": 6,
     "metadata": {},
     "output_type": "execute_result"
    }
   ],
   "source": [
    "s = 'aab'\n",
    "\n",
    "palindromePartitioningMinCuts_2(s)"
   ]
  },
  {
   "cell_type": "code",
   "execution_count": 7,
   "metadata": {},
   "outputs": [
    {
     "data": {
      "text/plain": [
       "2"
      ]
     },
     "execution_count": 7,
     "metadata": {},
     "output_type": "execute_result"
    }
   ],
   "source": [
    "s = 'noonabbad'\n",
    "\n",
    "palindromePartitioningMinCuts_2(s)"
   ]
  },
  {
   "cell_type": "code",
   "execution_count": 8,
   "metadata": {},
   "outputs": [
    {
     "data": {
      "text/plain": [
       "0"
      ]
     },
     "execution_count": 8,
     "metadata": {},
     "output_type": "execute_result"
    }
   ],
   "source": [
    "s = 'a'\n",
    "\n",
    "palindromePartitioningMinCuts_2(s)"
   ]
  },
  {
   "cell_type": "code",
   "execution_count": null,
   "metadata": {},
   "outputs": [],
   "source": []
  }
 ],
 "metadata": {
  "kernelspec": {
   "display_name": "Python 3",
   "language": "python",
   "name": "python3"
  },
  "language_info": {
   "codemirror_mode": {
    "name": "ipython",
    "version": 3
   },
   "file_extension": ".py",
   "mimetype": "text/x-python",
   "name": "python",
   "nbconvert_exporter": "python",
   "pygments_lexer": "ipython3",
   "version": "3.8.3"
  }
 },
 "nbformat": 4,
 "nbformat_minor": 4
}
