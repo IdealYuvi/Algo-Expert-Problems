{
 "cells": [
  {
   "cell_type": "markdown",
   "metadata": {},
   "source": [
    "# Given an integer array, return the longest strictly increasing subsequence.\n",
    "\n",
    "# A subsequence is a sequence that can be derived from an array by deleting some or no elements without changing the order of the remaining elements. For example, [3,6,2,7] is a subsequence of the array [0,3,1,6,2,2,7]."
   ]
  },
  {
   "cell_type": "code",
   "execution_count": null,
   "metadata": {},
   "outputs": [],
   "source": [
    "\"\"\"\n",
    "Example 1:\n",
    "Input: nums = [5,7,-24,12,10,2,3,12,5,6,35]\n",
    "Output: [-24,2,3,5,6,35]\n",
    "\n",
    "Example 2:\n",
    "Input: nums = [10,9,2,5,3,7,101,18]\n",
    "Output: [2,3,7,101] or [2,3,7,18]\n",
    "\n",
    "Example 3:\n",
    "Input: nums = [7,7,7,7,7,7,7]\n",
    "Output: [7]\n",
    "\n",
    "\"\"\""
   ]
  },
  {
   "cell_type": "code",
   "execution_count": 1,
   "metadata": {},
   "outputs": [],
   "source": [
    "# O(n^2)T / O(n)S\n",
    "\n",
    "def longestIncreasingSubsequences_1(array):\n",
    "    lengths = [1 for i in array]\n",
    "    sequences = [None for i in array]\n",
    "    maxLengthIdx = 0\n",
    "    \n",
    "    for i in range(len(array)):\n",
    "        curNum = array[i]\n",
    "        \n",
    "        for j in range(i):\n",
    "            otherNum = array[j]\n",
    "            \n",
    "            if otherNum < curNum and lengths[j] + 1 >= lengths[i]:\n",
    "                lengths[i] = lengths[j] + 1\n",
    "                sequences[i] = j\n",
    "        \n",
    "        if lengths[i] >= lengths[maxLengthIdx]:\n",
    "            maxLengthIdx = i\n",
    "            \n",
    "    return buildSequence(array, sequences, maxLengthIdx)\n",
    "\n",
    "def buildSequence(arr, seqs, idx):\n",
    "    result = []\n",
    "    \n",
    "    while idx is not None:\n",
    "        result.append(arr[idx])\n",
    "        idx = seqs[idx]\n",
    "        \n",
    "    return list(reversed(result))"
   ]
  },
  {
   "cell_type": "code",
   "execution_count": 2,
   "metadata": {},
   "outputs": [
    {
     "data": {
      "text/plain": [
       "[-24, 2, 3, 5, 6, 35]"
      ]
     },
     "execution_count": 2,
     "metadata": {},
     "output_type": "execute_result"
    }
   ],
   "source": [
    "nums = [5,7,-24,12,10,2,3,12,5,6,35]\n",
    "\n",
    "longestIncreasingSubsequences_1(nums)"
   ]
  },
  {
   "cell_type": "code",
   "execution_count": 3,
   "metadata": {},
   "outputs": [
    {
     "data": {
      "text/plain": [
       "[2, 3, 7, 18]"
      ]
     },
     "execution_count": 3,
     "metadata": {},
     "output_type": "execute_result"
    }
   ],
   "source": [
    "nums = [10,9,2,5,3,7,101,18]\n",
    "\n",
    "longestIncreasingSubsequences_1(nums)"
   ]
  },
  {
   "cell_type": "code",
   "execution_count": 4,
   "metadata": {},
   "outputs": [
    {
     "data": {
      "text/plain": [
       "[7]"
      ]
     },
     "execution_count": 4,
     "metadata": {},
     "output_type": "execute_result"
    }
   ],
   "source": [
    "nums = [7,7,7,7,7,7,7]\n",
    "\n",
    "longestIncreasingSubsequences_1(nums)"
   ]
  },
  {
   "cell_type": "code",
   "execution_count": 5,
   "metadata": {},
   "outputs": [],
   "source": [
    "# O(n*log(n))T / (n)S\n",
    "\n",
    "def longestIncreasingSubsequences_2(array):\n",
    "    sequences = [None for x in array]\n",
    "    indices = [None for x in range(len(array) + 1)]\n",
    "    length = 0\n",
    "    \n",
    "    for i, num in enumerate(array):\n",
    "        newLength = binarySearch(1, length, indices, array, num)\n",
    "        sequences[i] = indices[newLength - 1]\n",
    "        indices[newLength] = i\n",
    "        length = max(length, newLength)\n",
    "    \n",
    "    return buildSequence(array, sequences, indices[length])\n",
    "\n",
    "def binarySearch(left, right, indices, array, num):\n",
    "    if left > right:\n",
    "        return left\n",
    "    \n",
    "    middle = (left + right) // 2\n",
    "    \n",
    "    if array[indices[middle]] < num:\n",
    "        left = middle + 1\n",
    "    else:\n",
    "        right = middle - 1\n",
    "        \n",
    "    return binarySearch(left, right, indices, array, num)\n",
    "        \n",
    "def buildSequence(arr, seqs, idx):\n",
    "    result = []\n",
    "    \n",
    "    while idx is not None:\n",
    "        result.append(arr[idx])\n",
    "        idx = seqs[idx]\n",
    "        \n",
    "    return list(reversed(result))"
   ]
  },
  {
   "cell_type": "code",
   "execution_count": 6,
   "metadata": {},
   "outputs": [
    {
     "data": {
      "text/plain": [
       "[-24, 2, 3, 5, 6, 35]"
      ]
     },
     "execution_count": 6,
     "metadata": {},
     "output_type": "execute_result"
    }
   ],
   "source": [
    "nums = [5,7,-24,12,10,2,3,12,5,6,35]\n",
    "\n",
    "longestIncreasingSubsequences_2(nums)"
   ]
  },
  {
   "cell_type": "code",
   "execution_count": 7,
   "metadata": {},
   "outputs": [
    {
     "data": {
      "text/plain": [
       "[2, 3, 7, 18]"
      ]
     },
     "execution_count": 7,
     "metadata": {},
     "output_type": "execute_result"
    }
   ],
   "source": [
    "nums = [10,9,2,5,3,7,101,18]\n",
    "\n",
    "longestIncreasingSubsequences_2(nums)"
   ]
  },
  {
   "cell_type": "code",
   "execution_count": 8,
   "metadata": {},
   "outputs": [
    {
     "data": {
      "text/plain": [
       "[7]"
      ]
     },
     "execution_count": 8,
     "metadata": {},
     "output_type": "execute_result"
    }
   ],
   "source": [
    "nums = [7,7,7,7,7,7,7]\n",
    "\n",
    "longestIncreasingSubsequences_2(nums)"
   ]
  },
  {
   "cell_type": "code",
   "execution_count": null,
   "metadata": {},
   "outputs": [],
   "source": []
  }
 ],
 "metadata": {
  "kernelspec": {
   "display_name": "Python 3",
   "language": "python",
   "name": "python3"
  },
  "language_info": {
   "codemirror_mode": {
    "name": "ipython",
    "version": 3
   },
   "file_extension": ".py",
   "mimetype": "text/x-python",
   "name": "python",
   "nbconvert_exporter": "python",
   "pygments_lexer": "ipython3",
   "version": "3.8.3"
  }
 },
 "nbformat": 4,
 "nbformat_minor": 4
}
