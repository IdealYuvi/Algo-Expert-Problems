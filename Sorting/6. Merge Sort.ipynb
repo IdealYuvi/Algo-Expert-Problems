{
 "cells": [
  {
   "cell_type": "markdown",
   "metadata": {},
   "source": [
    "# Merge Sort Algorithm"
   ]
  },
  {
   "cell_type": "code",
   "execution_count": 1,
   "metadata": {},
   "outputs": [],
   "source": [
    "# O(n*log(n))T / O(n*log(n))S\n",
    "\n",
    "def mergeSort_1(array):\n",
    "    if len(array) == 1:\n",
    "        return array\n",
    "    \n",
    "    middleIdx = len(array) // 2\n",
    "    leftHalf = array[:middleIdx]\n",
    "    rightHalf = array[middleIdx:]\n",
    "    \n",
    "    return mergeSortedArrays(mergeSort_1(leftHalf), mergeSort_1(rightHalf))\n",
    "\n",
    "def mergeSortedArrays(leftHalf, rightHalf):\n",
    "    sortedArray = [None] * (len(leftHalf) + len(rightHalf))\n",
    "    k = i = j = 0\n",
    "    \n",
    "    while i < len(leftHalf) and j < len(rightHalf):\n",
    "        if leftHalf[i] <= rightHalf[j]:\n",
    "            sortedArray[k] = leftHalf[i]\n",
    "            i += 1\n",
    "        else:\n",
    "            sortedArray[k] = rightHalf[j]\n",
    "            j += 1\n",
    "        \n",
    "        k += 1\n",
    "        \n",
    "    while i < len(leftHalf):\n",
    "        sortedArray[k] = leftHalf[i]\n",
    "        i += 1\n",
    "        k += 1\n",
    "        \n",
    "    while j < len(rightHalf):\n",
    "        sortedArray[k] = rightHalf[j]\n",
    "        j += 1\n",
    "        k += 1\n",
    "        \n",
    "    return sortedArray"
   ]
  },
  {
   "cell_type": "code",
   "execution_count": 2,
   "metadata": {},
   "outputs": [
    {
     "data": {
      "text/plain": [
       "[1, 2, 3, 4, 5, 6, 7, 8, 9, 10]"
      ]
     },
     "execution_count": 2,
     "metadata": {},
     "output_type": "execute_result"
    }
   ],
   "source": [
    "array = [5,6,1,9,3,4,10,8,2,7]\n",
    "\n",
    "mergeSort_1(array)"
   ]
  },
  {
   "cell_type": "code",
   "execution_count": 3,
   "metadata": {},
   "outputs": [],
   "source": [
    "# O(n*log(n))T / O(n)S\n",
    "\n",
    "def mergeSort_2(array):\n",
    "    if len(array) <= 1:\n",
    "        return array\n",
    "    \n",
    "    auxiliaryArray = array[:]\n",
    "    mergeSortHelper(array, 0, len(array) - 1, auxiliaryArray)\n",
    "    \n",
    "    return array\n",
    "\n",
    "def mergeSortHelper(mainArray, startIdx, endIdx, auxiliaryArray):\n",
    "    if startIdx == endIdx:\n",
    "        return\n",
    "    \n",
    "    middleIdx = (startIdx + endIdx) // 2\n",
    "    mergeSortHelper(auxiliaryArray, startIdx, middleIdx, mainArray)\n",
    "    mergeSortHelper(auxiliaryArray, middleIdx + 1, endIdx, mainArray)\n",
    "    doMerge(mainArray, startIdx, middleIdx, endIdx, auxiliaryArray)\n",
    "    \n",
    "def doMerge(mainArray, startIdx, middleIdx, endIdx, auxiliaryArray):\n",
    "    k = startIdx\n",
    "    i = startIdx\n",
    "    j = middleIdx + 1\n",
    "    \n",
    "    while i <= middleIdx and j <= endIdx:\n",
    "        if auxiliaryArray[i] <= auxiliaryArray[j]:\n",
    "            mainArray[k] = auxiliaryArray[i]\n",
    "            i += 1\n",
    "        else:\n",
    "            mainArray[k] = auxiliaryArray[j]\n",
    "            j += 1\n",
    "        \n",
    "        k += 1\n",
    "        \n",
    "    while i <= middleIdx:\n",
    "        mainArray[k] = auxiliaryArray[i]\n",
    "        i += 1\n",
    "        k += 1\n",
    "        \n",
    "    while j <= endIdx:\n",
    "        mainArray[k] = auxiliaryArray[j]\n",
    "        j += 1\n",
    "        k += 1"
   ]
  },
  {
   "cell_type": "code",
   "execution_count": 4,
   "metadata": {},
   "outputs": [
    {
     "data": {
      "text/plain": [
       "[1, 2, 3, 4, 5, 6, 7, 8, 9, 10]"
      ]
     },
     "execution_count": 4,
     "metadata": {},
     "output_type": "execute_result"
    }
   ],
   "source": [
    "array = [5,6,1,9,3,4,10,8,2,7]\n",
    "\n",
    "mergeSort_2(array)"
   ]
  },
  {
   "cell_type": "code",
   "execution_count": 5,
   "metadata": {},
   "outputs": [],
   "source": [
    "# My Solution... for my better understanding\n",
    "\n",
    "def mergeSort_3(array):\n",
    "    mergeSort(array, 0, len(array) - 1)\n",
    "    return array\n",
    "    \n",
    "def mergeSort(arr, low, high):\n",
    "    if low >= high:\n",
    "        return\n",
    "    \n",
    "    mid = (low + high) // 2\n",
    "    \n",
    "    mergeSort(arr, low, mid)\n",
    "    mergeSort(arr, mid + 1, high)\n",
    "    merge(arr, low, mid, high)\n",
    "    \n",
    "def merge(arr, low, mid, high):\n",
    "    temp = []\n",
    "    \n",
    "    left = low\n",
    "    right = mid + 1\n",
    "    \n",
    "    while left <= mid and right <= high:\n",
    "        if arr[left] <= arr[right]:\n",
    "            temp.append(arr[left])\n",
    "            left += 1\n",
    "        else:\n",
    "            temp.append(arr[right])\n",
    "            right += 1\n",
    "            \n",
    "    while left <= mid:\n",
    "        temp.append(arr[left])\n",
    "        left += 1\n",
    "        \n",
    "    while right <= high:\n",
    "        temp.append(arr[right])\n",
    "        right += 1\n",
    "        \n",
    "    for i in range(low, high + 1):\n",
    "        arr[i] = temp[i - low]"
   ]
  },
  {
   "cell_type": "code",
   "execution_count": 6,
   "metadata": {},
   "outputs": [
    {
     "data": {
      "text/plain": [
       "[1, 2, 3, 4, 5, 6, 7, 8, 9, 10]"
      ]
     },
     "execution_count": 6,
     "metadata": {},
     "output_type": "execute_result"
    }
   ],
   "source": [
    "array = [5,6,1,9,3,4,10,8,2,7]\n",
    "\n",
    "mergeSort_3(array)"
   ]
  },
  {
   "cell_type": "code",
   "execution_count": null,
   "metadata": {},
   "outputs": [],
   "source": []
  }
 ],
 "metadata": {
  "kernelspec": {
   "display_name": "Python 3",
   "language": "python",
   "name": "python3"
  },
  "language_info": {
   "codemirror_mode": {
    "name": "ipython",
    "version": 3
   },
   "file_extension": ".py",
   "mimetype": "text/x-python",
   "name": "python",
   "nbconvert_exporter": "python",
   "pygments_lexer": "ipython3",
   "version": "3.8.3"
  }
 },
 "nbformat": 4,
 "nbformat_minor": 4
}
