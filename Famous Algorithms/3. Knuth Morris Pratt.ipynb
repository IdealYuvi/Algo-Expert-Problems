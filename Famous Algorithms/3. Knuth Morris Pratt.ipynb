{
 "cells": [
  {
   "cell_type": "code",
   "execution_count": null,
   "metadata": {},
   "outputs": [],
   "source": [
    "# String Matching Algorithm"
   ]
  },
  {
   "cell_type": "code",
   "execution_count": 1,
   "metadata": {},
   "outputs": [],
   "source": [
    "# O(n + m)T / O(m)S - n is len of string, m is len of substring\n",
    "\n",
    "def knuthMorrisPrattAlgorithm(string, substring):\n",
    "    pattern = buildPattern(substring)\n",
    "    \n",
    "    return doesMatch(string, substring, pattern)\n",
    "\n",
    "def buildPattern(substring):\n",
    "    pattern = [-1 for i in substring]\n",
    "    j = 0\n",
    "    i = 1\n",
    "    \n",
    "    while i < len(substring):\n",
    "        if substring[i] == substring[j]:\n",
    "            pattern[i] = j\n",
    "            i += 1\n",
    "            j += 1\n",
    "        elif j > 0:\n",
    "            j = pattern[j - 1] + 1\n",
    "        else:\n",
    "            i += 1\n",
    "            \n",
    "    return pattern\n",
    "\n",
    "def doesMatch(string, substring, pattern):\n",
    "    i = 0\n",
    "    j = 0\n",
    "    \n",
    "    while i + len(substring) - j <= len(string):\n",
    "        if string[i] == substring[j]:\n",
    "            if j == len(substring) - 1:\n",
    "                return True\n",
    "            \n",
    "            i += 1\n",
    "            j += 1\n",
    "        elif j > 0:\n",
    "            j = pattern[j - 1] + 1\n",
    "        else:\n",
    "            i += 1\n",
    "            \n",
    "    return False"
   ]
  },
  {
   "cell_type": "code",
   "execution_count": 2,
   "metadata": {},
   "outputs": [
    {
     "data": {
      "text/plain": [
       "True"
      ]
     },
     "execution_count": 2,
     "metadata": {},
     "output_type": "execute_result"
    }
   ],
   "source": [
    "string = 'aefaefaefaedaefaedaefaefa'\n",
    "substring = 'aefaedaefaefa'\n",
    "\n",
    "knuthMorrisPrattAlgorithm(string, substring)"
   ]
  },
  {
   "cell_type": "code",
   "execution_count": null,
   "metadata": {},
   "outputs": [],
   "source": []
  }
 ],
 "metadata": {
  "kernelspec": {
   "display_name": "Python 3",
   "language": "python",
   "name": "python3"
  },
  "language_info": {
   "codemirror_mode": {
    "name": "ipython",
    "version": 3
   },
   "file_extension": ".py",
   "mimetype": "text/x-python",
   "name": "python",
   "nbconvert_exporter": "python",
   "pygments_lexer": "ipython3",
   "version": "3.8.3"
  }
 },
 "nbformat": 4,
 "nbformat_minor": 4
}
