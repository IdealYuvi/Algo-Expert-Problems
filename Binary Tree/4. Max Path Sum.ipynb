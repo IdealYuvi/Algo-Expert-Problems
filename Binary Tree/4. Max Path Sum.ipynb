{
 "cells": [
  {
   "cell_type": "markdown",
   "metadata": {},
   "source": [
    "# Given a binary tree, find the greatest sum you can get from a path in the binary tree. A path is a collection of nodes that are connected with one rule, that is no single node in the path can be connected to more than two other nodes."
   ]
  },
  {
   "cell_type": "code",
   "execution_count": 1,
   "metadata": {},
   "outputs": [],
   "source": [
    "class BinaryTree:\n",
    "    def __init__(self, value):\n",
    "        self.value = value\n",
    "        self.left = None\n",
    "        self.right = None"
   ]
  },
  {
   "cell_type": "code",
   "execution_count": 2,
   "metadata": {},
   "outputs": [],
   "source": [
    "a = BinaryTree(1)\n",
    "a.left = BinaryTree(2)\n",
    "a.right = BinaryTree(3)\n",
    "a.left.left = BinaryTree(4)\n",
    "a.left.right = BinaryTree(5)\n",
    "a.right.left = BinaryTree(6)\n",
    "a.right.right = BinaryTree(7)"
   ]
  },
  {
   "cell_type": "code",
   "execution_count": null,
   "metadata": {},
   "outputs": [],
   "source": [
    "\"\"\"\n",
    "Sample Input:\n",
    "\n",
    "        1\n",
    "       / \\\n",
    "      2   3\n",
    "     / \\ / \\\n",
    "    4  5 6  7\n",
    "\n",
    "Sample Output: 18 - from the path 5,2,1,3,7\n",
    "  \n",
    "\"\"\""
   ]
  },
  {
   "cell_type": "code",
   "execution_count": 3,
   "metadata": {},
   "outputs": [],
   "source": [
    "# O(n)T / O(log(n))S\n",
    "\n",
    "def maxPathSum(tree):\n",
    "    _, maxSum = calculateMaxPathSum(tree)\n",
    "    \n",
    "    return maxSum\n",
    "\n",
    "def calculateMaxPathSum(tree):\n",
    "    if tree is None:\n",
    "        return (0, 0)\n",
    "    \n",
    "    leftMaxSumAsBranch, leftMaxPathSum = calculateMaxPathSum(tree.left)\n",
    "    rightMaxSumAsBranch, rightMaxPathSum = calculateMaxPathSum(tree.right)\n",
    "    \n",
    "    maxChildSumAsBranch = max(leftMaxSumAsBranch, rightMaxSumAsBranch)\n",
    "    \n",
    "    value = tree.value\n",
    "    maxSumAsBranch = max(maxChildSumAsBranch + value, value)\n",
    "    maxSumAsRootNode = max(leftMaxSumAsBranch + value + rightMaxSumAsBranch, maxSumAsBranch)\n",
    "    \n",
    "    maxPathSum = max(leftMaxPathSum, rightMaxPathSum, maxSumAsRootNode)\n",
    "    \n",
    "    return (maxSumAsBranch, maxPathSum)"
   ]
  },
  {
   "cell_type": "code",
   "execution_count": 4,
   "metadata": {},
   "outputs": [
    {
     "data": {
      "text/plain": [
       "18"
      ]
     },
     "execution_count": 4,
     "metadata": {},
     "output_type": "execute_result"
    }
   ],
   "source": [
    "maxPathSum(a)"
   ]
  },
  {
   "cell_type": "code",
   "execution_count": null,
   "metadata": {},
   "outputs": [],
   "source": []
  }
 ],
 "metadata": {
  "kernelspec": {
   "display_name": "Python 3",
   "language": "python",
   "name": "python3"
  },
  "language_info": {
   "codemirror_mode": {
    "name": "ipython",
    "version": 3
   },
   "file_extension": ".py",
   "mimetype": "text/x-python",
   "name": "python",
   "nbconvert_exporter": "python",
   "pygments_lexer": "ipython3",
   "version": "3.8.3"
  }
 },
 "nbformat": 4,
 "nbformat_minor": 4
}
